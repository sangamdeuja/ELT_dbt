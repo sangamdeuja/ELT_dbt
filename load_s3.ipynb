{
 "cells": [
  {
   "cell_type": "code",
   "execution_count": 33,
   "metadata": {},
   "outputs": [],
   "source": [
    "\n",
    "import boto3\n",
    "import pandas as pd\n",
    "from faker import Faker\n",
    "import random\n",
    "from io import StringIO\n",
    "from datetime import datetime"
   ]
  },
  {
   "cell_type": "code",
   "execution_count": 34,
   "metadata": {},
   "outputs": [],
   "source": [
    "session = boto3.Session(profile_name='default')\n",
    "s3 = session.client('s3')\n",
    "\n"
   ]
  },
  {
   "cell_type": "code",
   "execution_count": 35,
   "metadata": {},
   "outputs": [],
   "source": [
    "# Initialize Faker and AWS S3 client\n",
    "fake = Faker()\n",
    "#s3 = boto3.client('s3')"
   ]
  },
  {
   "cell_type": "code",
   "execution_count": 36,
   "metadata": {},
   "outputs": [],
   "source": [
    "def generate_cdc_order_data(num_rows=500):\n",
    "    data = []\n",
    "    for _ in range(num_rows):\n",
    "        order = {\n",
    "            'order_id': fake.uuid4(),\n",
    "            'customer_id': fake.uuid4(),\n",
    "            'order_date': fake.date_this_year(),\n",
    "            'status': random.choice(['CREATED', 'SHIPPED', 'DELIVERED', 'CANCELLED']),\n",
    "            'product_id': fake.uuid4(),\n",
    "            'quantity': random.randint(1, 5),\n",
    "            'price': round(random.uniform(10.0, 500.0), 2),\n",
    "            'total_amount': 0.0,  # We'll calculate this next\n",
    "            'cdc_timestamp': datetime.now()   # Simulate CDC timestamp\n",
    "        }\n",
    "        order['total_amount'] = round(order['quantity'] * order['price'], 2)\n",
    "        data.append(order)\n",
    "\n",
    "    # Convert to DataFrame\n",
    "    df = pd.DataFrame(data)\n",
    "    return df"
   ]
  },
  {
   "cell_type": "code",
   "execution_count": 38,
   "metadata": {},
   "outputs": [
    {
     "name": "stdout",
     "output_type": "stream",
     "text": [
      "Data uploaded to s3://sangamsnowflake/orders/file_name1.csv\n"
     ]
    }
   ],
   "source": [
    "def upload_to_s3(bucket_name, file_name, df):\n",
    "    csv_buffer = StringIO()\n",
    "    df.to_csv(csv_buffer, index=False)\n",
    "    \n",
    "    # Define file path within the \"orders\" folder\n",
    "    s3_key = f\"orders/{file_name}\"\n",
    "    \n",
    "    # Upload file\n",
    "    s3.put_object(Bucket=bucket_name, Key=s3_key, Body=csv_buffer.getvalue())\n",
    "    print(f\"Data uploaded to s3://{bucket_name}/{s3_key}\")\n",
    "\n",
    "# Generate 100 rows of fake CDC order data\n",
    "df_cdc_order_data = generate_cdc_order_data(num_rows=20)\n",
    "\n",
    "# Define S3 bucket and file path\n",
    "bucket_name = 'sangamsnowflake'\n",
    "file_name = 'file_name1.csv'  # Can be CSV, Parquet, etc.\n",
    "\n",
    "# Upload the generated data to S3 inside the \"orders\" folder\n",
    "upload_to_s3(bucket_name, file_name, df_cdc_order_data)"
   ]
  },
  {
   "cell_type": "code",
   "execution_count": null,
   "metadata": {},
   "outputs": [],
   "source": []
  }
 ],
 "metadata": {
  "kernelspec": {
   "display_name": "Python 3 (ipykernel)",
   "language": "python",
   "name": "python3"
  },
  "language_info": {
   "codemirror_mode": {
    "name": "ipython",
    "version": 3
   },
   "file_extension": ".py",
   "mimetype": "text/x-python",
   "name": "python",
   "nbconvert_exporter": "python",
   "pygments_lexer": "ipython3",
   "version": "3.10.4"
  }
 },
 "nbformat": 4,
 "nbformat_minor": 2
}
